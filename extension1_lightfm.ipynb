{
 "cells": [
  {
   "cell_type": "markdown",
   "metadata": {},
   "source": [
    "### Extension 1 - Comparison to single machine implementations (LightFM)\n"
   ]
  },
  {
   "cell_type": "code",
   "execution_count": 1,
   "metadata": {},
   "outputs": [
    {
     "name": "stderr",
     "output_type": "stream",
     "text": [
      "/Applications/anaconda3/lib/python3.7/site-packages/lightfm/_lightfm_fast.py:9: UserWarning: LightFM was compiled without OpenMP support. Only a single thread will be used.\n",
      "  warnings.warn('LightFM was compiled without OpenMP support. '\n"
     ]
    }
   ],
   "source": [
    "import pandas as pd\n",
    "import os   \n",
    "import sys \n",
    "import numpy as np\n",
    "from lightfm import LightFM as LF\n",
    "from scipy import sparse\n",
    "from lightfm.evaluation import precision_at_k\n",
    "import time"
   ]
  },
  {
   "cell_type": "code",
   "execution_count": 2,
   "metadata": {},
   "outputs": [
    {
     "name": "stdout",
     "output_type": "stream",
     "text": [
      "Loading training data\n",
      "Time taken:0.16811084747314453\n"
     ]
    }
   ],
   "source": [
    "start=time.time()\n",
    "print('Loading training data')\n",
    "\n",
    "path = r'train.csv/'\n",
    "flist = []\n",
    "for f in os.listdir(path):\n",
    "    if f.endswith('.csv'):\n",
    "        m = pd.read_csv(os.path.join(path,f), index_col=None, names=['user_id', 'book_id', 'is_read', 'rating','is_reviewed'])\n",
    "        flist.append(m)\n",
    "train_df = pd.concat(flist, axis=0)\n",
    "\n",
    "print('Time taken:{}'.format(time.time()-start))"
   ]
  },
  {
   "cell_type": "code",
   "execution_count": 3,
   "metadata": {},
   "outputs": [
    {
     "name": "stdout",
     "output_type": "stream",
     "text": [
      "Loading test data\n",
      "Time taken:0.07405304908752441\n"
     ]
    }
   ],
   "source": [
    "start = time.time()\n",
    "print('Loading test data')\n",
    "\n",
    "path_test = r'test.csv/'\n",
    "flist_test = []\n",
    "for f in os.listdir(path_test):\n",
    "    if f.endswith('.csv'):\n",
    "        m_test = pd.read_csv(os.path.join(path_test,f), index_col=None, names=['user_id', 'book_id', 'is_read', 'rating','is_reviewed'])\n",
    "        flist_test.append(m_test)\n",
    "test_df = pd.concat(flist_test, axis=0)\n",
    "\n",
    "print('Time taken:{}'.format(time.time()-start))"
   ]
  },
  {
   "cell_type": "code",
   "execution_count": null,
   "metadata": {},
   "outputs": [],
   "source": [
    "n1= train_df[train_df.user_id.isin(test_df.user_id)].shape[0]\n",
    "n_test = test_df.shape[0]\n",
    "n_train = train_df.shape[0]"
   ]
  },
  {
   "cell_type": "code",
   "execution_count": null,
   "metadata": {},
   "outputs": [],
   "source": [
    "def fit_model(samples, train_df, test_df):\n",
    "    train_df_sample1 = train_df[train_df.user_id.isin(test_df.user_id)]\n",
    "    train_df_sample2 = train_df[~train_df.user_id.isin(test_df.user_id)]\n",
    "    train_df_subsample = train_df_sample2.sample(n=samples)\n",
    "    train_df_new = pd.concat([train_df_sample1,train_df_subsample],axis=0)\n",
    "    \n",
    "    start = time.time()\n",
    "    print('Data preprocessing')\n",
    "\n",
    "    mat = sparse.coo_matrix((train_df_new['rating'], (train_df_new['user_id'], train_df_new['book_id'])))\n",
    "    test_new = pd.concat([train_df_new,test_df],axis=0)\n",
    "    test_mat = sparse.coo_matrix((test_new['rating'], (test_new['user_id'], test_new['book_id'])))\n",
    "    \n",
    "    print('Time taken:{}'.format(time.time()-start))\n",
    "    \n",
    "    start = time.time()\n",
    "\n",
    "    model = LF(no_components=100, user_alpha=0.001, item_alpha=0.001, loss='warp')\n",
    "    model.fit(mat, epochs=10)\n",
    "\n",
    "    print('Done with model fitting')\n",
    "    print('Time taken: {}'.format(time.time()-start))\n",
    "    \n",
    "    start = time.time()\n",
    "\n",
    "    test_precision = precision_at_k(model, test_mat, k=500).mean()\n",
    "    print('Precision@k: {}'.format(test_precision))\n",
    "\n",
    "    print('Time taken: {}'.format(time.time()-start))"
   ]
  },
  {
   "cell_type": "code",
   "execution_count": null,
   "metadata": {},
   "outputs": [],
   "source": [
    "l = [1,10000,25000, 50000,75000, 100000]\n",
    "for n in l:\n",
    "    f = (n + n1)/n_train\n",
    "    print('Fraction:{}'.format(f))\n",
    "    fit_model(n, train_df, test_df)"
   ]
  }
 ],
 "metadata": {
  "kernelspec": {
   "display_name": "Python 3",
   "language": "python",
   "name": "python3"
  },
  "language_info": {
   "codemirror_mode": {
    "name": "ipython",
    "version": 3
   },
   "file_extension": ".py",
   "mimetype": "text/x-python",
   "name": "python",
   "nbconvert_exporter": "python",
   "pygments_lexer": "ipython3",
   "version": "3.7.3"
  }
 },
 "nbformat": 4,
 "nbformat_minor": 2
}
